{
 "cells": [
  {
   "cell_type": "code",
   "execution_count": 3,
   "metadata": {},
   "outputs": [],
   "source": [
    "import numpy as np\n",
    "import matplotlib.pyplot as plt\n",
    "%matplotlib inline\n",
    "import scipy.io\n",
    "from sklearn.decomposition import PCA"
   ]
  },
  {
   "cell_type": "code",
   "execution_count": 7,
   "metadata": {},
   "outputs": [],
   "source": [
    "def Pca(X, k):\n",
    "    X_0 = (X - np.mean(X,axis = 0)) / np.std(X,axis = 0)\n",
    "    cov_0 = np.cov(X_0, rowvar=False)\n",
    "    w, v = np.linalg.eigh(cov_0)\n",
    "    w = np.flip(np.absolute(w),axis = 0)\n",
    "    v = np.flip(v,axis = 1)\n",
    "    X_pc = np.dot(X_0,v) * (1/np.sqrt(w))\n",
    "    return X_pc[:,:k]\n",
    "\n",
    "def Pca2(X, threshold = 0.9):\n",
    "    X_0 = (X - np.mean(X,axis = 0)) / np.std(X,axis = 0)\n",
    "    cov_0 = np.cov(X_0, rowvar=False)\n",
    "    w, v = np.linalg.eigh(cov_0)\n",
    "    w = np.flip(np.absolute(w),axis = 0)\n",
    "    v = np.flip(v,axis = 1)\n",
    "    X_pc = np.dot(X_0,v) * (1/np.sqrt(w))\n",
    "    i = 1\n",
    "    s = np.sum(w)\n",
    "    while(np.sum(w[:i])/s < threshold):\n",
    "        i+=1\n",
    "    return X_pc[:,:i], i\n",
    "\n",
    "def recognize(data, face, threshold):\n",
    "    dist = np.sum((data-face)**2,axis=1)\n",
    "    k = np.argmin(dist)\n",
    "    if(dist[k] < threshold**2):\n",
    "        return int(k/5)\n",
    "    else:\n",
    "        return -1\n",
    "\n",
    "def test(train, tests, threshold):\n",
    "    succ = 0\n",
    "    unrecognized = 0\n",
    "    size = tests.shape[0]\n",
    "    for i in range(size):\n",
    "        res = recognize(train, tests[i,:], threshold)\n",
    "        if(res == int(i/2)):\n",
    "            succ+=1\n",
    "        if(res == -1):\n",
    "            unrecognized+=1\n",
    "    return succ, size - succ - unrecognized, unrecognized"
   ]
  },
  {
   "cell_type": "code",
   "execution_count": 8,
   "metadata": {},
   "outputs": [
    {
     "data": {
      "text/plain": [
       "((250, 4920), (100, 4920))"
      ]
     },
     "execution_count": 8,
     "metadata": {},
     "output_type": "execute_result"
    }
   ],
   "source": [
    "training = scipy.io.loadmat('ReducedImagesForTraining.mat')['images'].T\n",
    "testing = scipy.io.loadmat('ReducedImagesForTesting.mat')['images'].T\n",
    "\n",
    "training.shape, testing.shape"
   ]
  },
  {
   "cell_type": "code",
   "execution_count": 14,
   "metadata": {},
   "outputs": [],
   "source": [
    "X = training\n",
    "threshold = 0.9\n",
    "X_mean = np.mean(X,axis = 0)\n",
    "X_std = np.std(X,axis = 0)\n",
    "X_0 = (X - X_mean) / X_std\n",
    "cov_0 = np.cov(X_0, rowvar=False)\n",
    "w, v = np.linalg.eigh(cov_0)\n",
    "w = np.flip(np.absolute(w),axis = 0)\n",
    "v = np.flip(v,axis = 1)\n",
    "X_pc = np.dot(X_0,v) * (1/np.sqrt(w))    \n",
    "i = 1\n",
    "s = np.sum(w)\n",
    "while(np.sum(w[:i])/s < threshold):\n",
    "    i+=1\n",
    "X_pca = X_pc[:,:i]\n",
    "w_pc = w[:i]\n",
    "v_pc = v[:,:i]"
   ]
  },
  {
   "cell_type": "code",
   "execution_count": 15,
   "metadata": {},
   "outputs": [],
   "source": [
    "Y = testing\n",
    "Y_0 = (Y - np.mean(Y,axis = 0))/np.std(Y,axis = 0)\n",
    "Y_pc = np.dot(Y_0,v_pc) * (1/np.sqrt(w_pc))"
   ]
  },
  {
   "cell_type": "code",
   "execution_count": 33,
   "metadata": {},
   "outputs": [
    {
     "data": {
      "text/plain": [
       "(97, 1, 2)"
      ]
     },
     "execution_count": 33,
     "metadata": {},
     "output_type": "execute_result"
    }
   ],
   "source": [
    "test(X_pca,Y_pc,7)"
   ]
  },
  {
   "cell_type": "code",
   "execution_count": 20,
   "metadata": {},
   "outputs": [
    {
     "data": {
      "text/plain": [
       "(17, 78, 5)"
      ]
     },
     "execution_count": 20,
     "metadata": {},
     "output_type": "execute_result"
    }
   ],
   "source": [
    "test(training,testing,4200)"
   ]
  },
  {
   "cell_type": "code",
   "execution_count": null,
   "metadata": {},
   "outputs": [],
   "source": []
  }
 ],
 "metadata": {
  "kernelspec": {
   "display_name": "Python 3",
   "language": "python",
   "name": "python3"
  },
  "language_info": {
   "codemirror_mode": {
    "name": "ipython",
    "version": 3
   },
   "file_extension": ".py",
   "mimetype": "text/x-python",
   "name": "python",
   "nbconvert_exporter": "python",
   "pygments_lexer": "ipython3",
   "version": "3.6.4"
  }
 },
 "nbformat": 4,
 "nbformat_minor": 2
}
