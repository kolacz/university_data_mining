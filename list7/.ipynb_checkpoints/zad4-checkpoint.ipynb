{
 "cells": [
  {
   "cell_type": "code",
   "execution_count": 1,
   "metadata": {},
   "outputs": [],
   "source": [
    "import numpy as np\n",
    "import matplotlib.pyplot as plt\n",
    "%matplotlib inline\n",
    "import scipy.io"
   ]
  },
  {
   "cell_type": "code",
   "execution_count": 2,
   "metadata": {},
   "outputs": [
    {
     "data": {
      "text/plain": [
       "((250, 4920), (100, 4920))"
      ]
     },
     "execution_count": 2,
     "metadata": {},
     "output_type": "execute_result"
    }
   ],
   "source": [
    "training = scipy.io.loadmat('ReducedImagesForTraining.mat')['images'].T\n",
    "testing = scipy.io.loadmat('ReducedImagesForTesting.mat')['images'].T\n",
    "\n",
    "training.shape, testing.shape"
   ]
  },
  {
   "cell_type": "code",
   "execution_count": 3,
   "metadata": {},
   "outputs": [],
   "source": [
    "def recognize(data, face, threshold):\n",
    "    dist = np.sum((data-face)**2,axis=1)\n",
    "    k = np.argmin(dist)\n",
    "    if(dist[k] < threshold**2):\n",
    "        return int(k/5)\n",
    "    else:\n",
    "        return -1\n",
    "\n",
    "def test(train, tests, threshold):\n",
    "    succ = 0\n",
    "    unrecognized = 0\n",
    "    size = tests.shape[0]\n",
    "    for i in range(size):\n",
    "        res = recognize(train, tests[i,:], threshold)\n",
    "        if(res == int(i/2)):\n",
    "            succ+=1\n",
    "        if(res == -1):\n",
    "            unrecognized+=1\n",
    "    return succ, size - succ - unrecognized, unrecognized"
   ]
  },
  {
   "cell_type": "code",
   "execution_count": 4,
   "metadata": {},
   "outputs": [
    {
     "data": {
      "text/plain": [
       "(17, 78, 5)"
      ]
     },
     "execution_count": 4,
     "metadata": {},
     "output_type": "execute_result"
    }
   ],
   "source": [
    "test(training,testing,4200)"
   ]
  },
  {
   "cell_type": "code",
   "execution_count": null,
   "metadata": {},
   "outputs": [],
   "source": []
  },
  {
   "cell_type": "code",
   "execution_count": null,
   "metadata": {},
   "outputs": [],
   "source": []
  },
  {
   "cell_type": "code",
   "execution_count": null,
   "metadata": {},
   "outputs": [],
   "source": []
  }
 ],
 "metadata": {
  "kernelspec": {
   "display_name": "Python 3",
   "language": "python",
   "name": "python3"
  },
  "language_info": {
   "codemirror_mode": {
    "name": "ipython",
    "version": 3
   },
   "file_extension": ".py",
   "mimetype": "text/x-python",
   "name": "python",
   "nbconvert_exporter": "python",
   "pygments_lexer": "ipython3",
   "version": "3.5.2"
  }
 },
 "nbformat": 4,
 "nbformat_minor": 2
}
