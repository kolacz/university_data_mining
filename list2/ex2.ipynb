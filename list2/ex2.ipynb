{
 "cells": [
  {
   "cell_type": "code",
   "execution_count": 114,
   "metadata": {},
   "outputs": [],
   "source": [
    "from sklearn import datasets\n",
    "iris = datasets.load_iris()\n",
    "import numpy as np\n",
    "import matplotlib.pyplot as plt"
   ]
  },
  {
   "cell_type": "code",
   "execution_count": 115,
   "metadata": {},
   "outputs": [
    {
     "data": {
      "text/plain": [
       "array(['setosa', 'versicolor', 'virginica'],\n",
       "      dtype='<U10')"
      ]
     },
     "execution_count": 115,
     "metadata": {},
     "output_type": "execute_result"
    }
   ],
   "source": [
    "iris.target_names"
   ]
  },
  {
   "cell_type": "code",
   "execution_count": 116,
   "metadata": {},
   "outputs": [],
   "source": [
    "X = iris.data[:,:2]"
   ]
  },
  {
   "cell_type": "code",
   "execution_count": 117,
   "metadata": {},
   "outputs": [],
   "source": [
    "xmin = 4.5\n",
    "ymin = 2 * xmin - 8\n",
    "xmax = 7\n",
    "ymax = 2 * xmax - 8"
   ]
  },
  {
   "cell_type": "code",
   "execution_count": 118,
   "metadata": {},
   "outputs": [
    {
     "data": {
      "image/png": "[encoded data removed]",
      "text/plain": [
       "<matplotlib.figure.Figure at 0x7f69217b00f0>"
      ]
     },
     "metadata": {},
     "output_type": "display_data"
    }
   ],
   "source": [
    "plt.plot(X[0:50,0],X[0:50,1], 'g.') #setosa\n",
    "plt.plot(X[100:150,0],X[100:150,1], 'b.') #virginica\n",
    "plt.plot([xmin,xmax],[ymin,ymax], 'k-')\n",
    "\n",
    "plt.xlabel('sepal length (cm)')\n",
    "plt.ylabel('sepal width (cm)')\n",
    "plt.title('Iris')\n",
    "plt.xticks(range(3,10))\n",
    "plt.yticks(range(1,6))\n",
    "plt.show()"
   ]
  },
  {
   "cell_type": "code",
   "execution_count": 119,
   "metadata": {},
   "outputs": [
    {
     "data": {
      "image/png": "[encoded data removed]",
      "text/plain": [
       "<matplotlib.figure.Figure at 0x7f68e7f95208>"
      ]
     },
     "metadata": {},
     "output_type": "display_data"
    }
   ],
   "source": [
    "for i in range(50):\n",
    "    if(2 * iris.data[i,0] - 8 > iris.data[i,1]):\n",
    "        plt.plot(iris.data[i,0],iris.data[i,1],'r.')\n",
    "    else:\n",
    "        plt.plot(iris.data[i,0],iris.data[i,1],'g.')\n",
    "\n",
    "for i in range(100,150):\n",
    "    if(2 * iris.data[i,0] - 8 < iris.data[i,1]):\n",
    "        plt.plot(iris.data[i,0],iris.data[i,1],'r.')\n",
    "    else:\n",
    "        plt.plot(iris.data[i,0],iris.data[i,1],'g.')\n",
    "\n",
    "plt.plot([xmin,xmax],[ymin,ymax], 'k-')\n",
    "\n",
    "plt.xlabel('sepal length (cm)')\n",
    "plt.ylabel('sepal width (cm)')\n",
    "plt.title('Iris')\n",
    "plt.xticks(range(3,10))\n",
    "plt.yticks(range(1,6))\n",
    "plt.savefig(\"zadanie2a.png\")\n",
    "plt.show()"
   ]
  },
  {
   "cell_type": "code",
   "execution_count": 120,
   "metadata": {},
   "outputs": [],
   "source": [
    "minx=1000\n",
    "# wyszukujemy punktu położonego najbardziej na lewo\n",
    "for i in range(100,150):\n",
    "    if(iris.data[i,0] < minx):\n",
    "        minx = iris.data[i,0]\n",
    "        y1 = iris.data[i,1]\n",
    "\n",
    "maxx=-1000\n",
    "# wyszukujemy punktu położonego najbardziej na prawo\n",
    "for i in range(0,50):   #(50)\n",
    "    if(iris.data[i,0] > maxx):\n",
    "        maxx = iris.data[i,0]\n",
    "        y2 = iris.data[i,1]\n",
    "        \n",
    "# bierzemy współrzędne x'owe przesunięte o epsilon\n",
    "eps = 0.1\n",
    "a = minx - eps\n",
    "b = 1\n",
    "c = maxx + eps\n",
    "d = 1\n",
    "\n",
    "#[a b][A]=[y1]\n",
    "#[c d][B]=[y2]\n",
    "# rozwiązujemy układ równań\n",
    "M = np.array([[1, -1], [-c, a]])\n",
    "v = np.array([[y1],[y2]])\n",
    "R = (1/(a-c))*np.dot(M,v)"
   ]
  },
  {
   "cell_type": "code",
   "execution_count": 121,
   "metadata": {},
   "outputs": [
    {
     "data": {
      "text/plain": [
       "array([[ 1.36363636],\n",
       "       [-4.04545455]])"
      ]
     },
     "execution_count": 121,
     "metadata": {},
     "output_type": "execute_result"
    }
   ],
   "source": [
    "R"
   ]
  },
  {
   "cell_type": "code",
   "execution_count": 122,
   "metadata": {},
   "outputs": [
    {
     "data": {
      "image/png": "[encoded data removed]",
      "text/plain": [
       "<matplotlib.figure.Figure at 0x7f68e8176208>"
      ]
     },
     "metadata": {},
     "output_type": "display_data"
    }
   ],
   "source": [
    "for i in range(50):\n",
    "    if(R[0] * iris.data[i,0] + R[1] > iris.data[i,1]):\n",
    "        plt.plot(iris.data[i,0],iris.data[i,1],'r.')\n",
    "    else:\n",
    "        plt.plot(iris.data[i,0],iris.data[i,1],'g.')\n",
    "\n",
    "for i in range(100,150):\n",
    "    if(R[0] * iris.data[i,0] + R[1] < iris.data[i,1]):\n",
    "        plt.plot(iris.data[i,0],iris.data[i,1],'r.')\n",
    "    else:\n",
    "        plt.plot(iris.data[i,0],iris.data[i,1],'g.')\n",
    "\n",
    "x1 = 3.5\n",
    "x2 = 7\n",
    "y1 = x1*R[0]+R[1]\n",
    "y2 = x2*R[0]+R[1]\n",
    "        \n",
    "plt.plot([x1,x2],[y1,y2], 'k-')\n",
    "\n",
    "plt.xlabel('sepal length (cm)')\n",
    "plt.ylabel('sepal width (cm)')\n",
    "plt.title('Iris')\n",
    "plt.xticks(range(3,10))\n",
    "plt.yticks(range(1,6))\n",
    "plt.savefig(\"zadanie2b.png\")\n",
    "plt.show()"
   ]
  },
  {
   "cell_type": "code",
   "execution_count": null,
   "metadata": {},
   "outputs": [],
   "source": []
  }
 ],
 "metadata": {
  "kernelspec": {
   "display_name": "Python 3",
   "language": "python",
   "name": "python3"
  },
  "language_info": {
   "codemirror_mode": {
    "name": "ipython",
    "version": 3
   },
   "file_extension": ".py",
   "mimetype": "text/x-python",
   "name": "python",
   "nbconvert_exporter": "python",
   "pygments_lexer": "ipython3",
   "version": "3.5.2"
  }
 },
 "nbformat": 4,
 "nbformat_minor": 2
}
