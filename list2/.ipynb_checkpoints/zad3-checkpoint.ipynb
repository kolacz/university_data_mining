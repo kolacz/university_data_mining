{
 "cells": [
  {
   "cell_type": "code",
   "execution_count": 90,
   "metadata": {},
   "outputs": [],
   "source": [
    "import numpy as np\n",
    "import matplotlib.pyplot as plt\n",
    "import math"
   ]
  },
  {
   "cell_type": "code",
   "execution_count": 91,
   "metadata": {},
   "outputs": [],
   "source": [
    "A = np.array([[1,10],[2,10],[3,11],[4,12],[5,18],[6,18],[7,19],[8,26],[9,19],[10,26]])"
   ]
  },
  {
   "cell_type": "code",
   "execution_count": 92,
   "metadata": {},
   "outputs": [
    {
     "data": {
      "text/plain": [
       "array([[ 1, 10],\n",
       "       [ 2, 10],\n",
       "       [ 3, 11],\n",
       "       [ 4, 12],\n",
       "       [ 5, 18],\n",
       "       [ 6, 18],\n",
       "       [ 7, 19],\n",
       "       [ 8, 26],\n",
       "       [ 9, 19],\n",
       "       [10, 26]])"
      ]
     },
     "execution_count": 92,
     "metadata": {},
     "output_type": "execute_result"
    }
   ],
   "source": [
    "A"
   ]
  },
  {
   "cell_type": "code",
   "execution_count": 93,
   "metadata": {},
   "outputs": [
    {
     "data": {
      "image/png": "[encoded data removed]",
      "text/plain": [
       "<matplotlib.figure.Figure at 0x7f0648cafef0>"
      ]
     },
     "metadata": {},
     "output_type": "display_data"
    }
   ],
   "source": [
    "plt.plot(A[:,0],A[:,1],\"b.\")\n",
    "plt.show()"
   ]
  },
  {
   "cell_type": "code",
   "execution_count": 94,
   "metadata": {},
   "outputs": [
    {
     "data": {
      "image/png": "[encoded data removed]",
      "text/plain": [
       "<matplotlib.figure.Figure at 0x7f0648d21b70>"
      ]
     },
     "metadata": {},
     "output_type": "display_data"
    }
   ],
   "source": [
    "a = 2\n",
    "b = 5\n",
    "x1 = 0\n",
    "y1 = a*x1+b\n",
    "x2 = 11\n",
    "y2 = a*x2+b\n",
    "\n",
    "plt.plot(A[:,0],A[:,1],\"b.\")\n",
    "plt.plot([x1,x2],[y1,y2],\"r-\")\n",
    "plt.savefig(\"zadanie3a.png\")\n",
    "plt.show()"
   ]
  },
  {
   "cell_type": "code",
   "execution_count": 95,
   "metadata": {},
   "outputs": [],
   "source": [
    "#dist(k:ax+by+c=0,(x0,y0))=|ax0 + by0 +c|/sqrt(a**2 + b**2)\n",
    "\n",
    "D = np.zeros(10)\n",
    "for i in range(10):\n",
    "    D[i]=abs(a*A[i,0]-A[i,1]+b)/math.sqrt(a**2+(-1)**2)"
   ]
  },
  {
   "cell_type": "code",
   "execution_count": 96,
   "metadata": {},
   "outputs": [
    {
     "data": {
      "text/plain": [
       "array([ 1.34164079,  0.4472136 ,  0.        ,  0.4472136 ,  1.34164079,\n",
       "        0.4472136 ,  0.        ,  2.23606798,  1.78885438,  0.4472136 ])"
      ]
     },
     "execution_count": 96,
     "metadata": {},
     "output_type": "execute_result"
    }
   ],
   "source": [
    "D"
   ]
  },
  {
   "cell_type": "code",
   "execution_count": 97,
   "metadata": {},
   "outputs": [
    {
     "data": {
      "text/plain": [
       "8.4970583144992027"
      ]
     },
     "execution_count": 97,
     "metadata": {},
     "output_type": "execute_result"
    }
   ],
   "source": [
    "sum(D)"
   ]
  },
  {
   "cell_type": "code",
   "execution_count": 98,
   "metadata": {},
   "outputs": [],
   "source": [
    "E = np.zeros(10)\n",
    "min = 100000\n",
    "\n",
    "best_a = 1\n",
    "best_b = 0\n",
    "# sprawdzamy wszystkie pary (a,b), a<-(1,3), b<-(0,10)\n",
    "i_a = 0.02 #interwał\n",
    "i_b = 0.1\n",
    "a = best_a\n",
    "b = best_b\n",
    "\n",
    "for i in range(100):\n",
    "    b = 0\n",
    "    for j in range(100):\n",
    "        for k in range(10):\n",
    "            E[k] = abs(a*A[k,0]-A[k,1]+b)/math.sqrt(a**2+(-1)**2)\n",
    "        if(sum(E)<min):\n",
    "            min = sum(E)\n",
    "            best_a = a\n",
    "            best_b = b   \n",
    "        b += i_b\n",
    "    a += i_a\n",
    "   \n",
    "res = [best_a,best_b]"
   ]
  },
  {
   "cell_type": "code",
   "execution_count": 99,
   "metadata": {},
   "outputs": [
    {
     "data": {
      "text/plain": [
       "[2.000000000000001, 5.999999999999995]"
      ]
     },
     "execution_count": 99,
     "metadata": {},
     "output_type": "execute_result"
    }
   ],
   "source": [
    "res"
   ]
  },
  {
   "cell_type": "code",
   "execution_count": 100,
   "metadata": {},
   "outputs": [
    {
     "data": {
      "image/png": "[encoded data removed]",
      "text/plain": [
       "<matplotlib.figure.Figure at 0x7f0648d487b8>"
      ]
     },
     "metadata": {},
     "output_type": "display_data"
    }
   ],
   "source": [
    "a = res[0]\n",
    "b = res[1]\n",
    "x1 = 0\n",
    "y1 = a*x1+b\n",
    "x2 = 11\n",
    "y2 = a*x2+b\n",
    "\n",
    "plt.plot(A[:,0],A[:,1],\"b.\")\n",
    "plt.plot([x1,x2],[y1,y2],\"g-\")\n",
    "plt.savefig(\"zadanie3b.png\")\n",
    "plt.show()"
   ]
  },
  {
   "cell_type": "code",
   "execution_count": null,
   "metadata": {},
   "outputs": [],
   "source": []
  }
 ],
 "metadata": {
  "kernelspec": {
   "display_name": "Python 3",
   "language": "python",
   "name": "python3"
  },
  "language_info": {
   "codemirror_mode": {
    "name": "ipython",
    "version": 3
   },
   "file_extension": ".py",
   "mimetype": "text/x-python",
   "name": "python",
   "nbconvert_exporter": "python",
   "pygments_lexer": "ipython3",
   "version": "3.5.2"
  }
 },
 "nbformat": 4,
 "nbformat_minor": 2
}
