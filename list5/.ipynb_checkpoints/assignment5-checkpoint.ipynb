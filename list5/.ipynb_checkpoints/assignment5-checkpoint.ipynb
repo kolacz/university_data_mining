{
 "cells": [
  {
   "cell_type": "code",
   "execution_count": 1,
   "metadata": {},
   "outputs": [],
   "source": [
    "import numpy as np\n",
    "import matplotlib.pyplot as plt\n",
    "from scipy.spatial import distance\n",
    "import math\n",
    "import random\n",
    "from sklearn import datasets"
   ]
  },
  {
   "cell_type": "code",
   "execution_count": 2,
   "metadata": {},
   "outputs": [],
   "source": [
    "def dist(A,B):\n",
    "    X = np.sum(A**2,axis=1)[np.newaxis].T\n",
    "    Y = np.sum(B**2,axis=1)\n",
    "    XY = -2 * np.dot(A,B.T)\n",
    "    return (X + Y + XY)**(0.5)"
   ]
  },
  {
   "cell_type": "code",
   "execution_count": 3,
   "metadata": {},
   "outputs": [],
   "source": [
    "def KNN(test,train,classes,k):\n",
    "    res = np.zeros(test.shape[0])\n",
    "    if(train.shape[0] >= k): # sprawdzamy, czy w ogóle możemy pobrać k najbliższych sąsiadów\n",
    "        T = np.argsort(dist(test,train),axis=1)[:,:k] # lista 0 zadanie 5\n",
    "    else:\n",
    "        return []\n",
    "    for i in range(test.shape[0]):\n",
    "        cs = np.zeros(k)\n",
    "        for j in range(k):\n",
    "            cs[j] = classes[T[i][j]]\n",
    "        values, counts = np.unique(cs,return_counts=True) # szukamy najliczniej pojawiającej się klasy wśród knn\n",
    "        ind = np.argmax(counts) \n",
    "        res[i] = values[ind]\n",
    "    return res"
   ]
  },
  {
   "cell_type": "markdown",
   "metadata": {},
   "source": [
    "# Zadanie 1"
   ]
  },
  {
   "cell_type": "code",
   "execution_count": 4,
   "metadata": {},
   "outputs": [],
   "source": [
    "iris = datasets.load_iris()\n",
    "X = iris.data\n",
    "C = iris.target"
   ]
  },
  {
   "cell_type": "code",
   "execution_count": 5,
   "metadata": {},
   "outputs": [
    {
     "data": {
      "text/plain": [
       "3"
      ]
     },
     "execution_count": 5,
     "metadata": {},
     "output_type": "execute_result"
    }
   ],
   "source": [
    "def errKNN(actual, result):\n",
    "    count = 0\n",
    "    for i in range(len(actual)):\n",
    "        if(actual[i] != result[i]):\n",
    "            count += 1\n",
    "    return count\n",
    "\n",
    "def correct(actual, result):\n",
    "    return 100 - errKNN(actual,result)/actual.shape[0]*100.0\n",
    "\n",
    "def test(k_min, k_max):\n",
    "    M = []\n",
    "    for j in range(30):\n",
    "        ind = np.sort(np.random.choice(150,100,replace=False)) \n",
    "        indc = np.setdiff1d(np.arange(150),ind)\n",
    "        train_ = np.take(X,ind,axis=0)\n",
    "        classes_ = np.take(C,ind,axis=0)\n",
    "        test_  = np.take(X,indc,axis=0)\n",
    "        actual_  = np.take(C,indc,axis=0)\n",
    "        t = []\n",
    "        for i in range(k_min,k_max+1):\n",
    "            res = KNN(test_, train_, classes_, i)\n",
    "            t.append(errKNN(actual_,res))\n",
    "        M.append(np.argmin(t))\n",
    "    values, counts = np.unique(M,return_counts=True) \n",
    "    ind = np.argmax(counts) \n",
    "    return values[ind]+k_min\n",
    "\n",
    "test(3,10)"
   ]
  },
  {
   "cell_type": "markdown",
   "metadata": {},
   "source": [
    "## Optical Recognition of Handwritten Digits"
   ]
  },
  {
   "cell_type": "code",
   "execution_count": 6,
   "metadata": {},
   "outputs": [
    {
     "name": "stdout",
     "output_type": "stream",
     "text": [
      "accuracy with k = 3 : 97.8297161936561%\n"
     ]
    }
   ],
   "source": [
    "opt_tra = np.genfromtxt('optdigits.tra', delimiter=',')\n",
    "opt_tes = np.genfromtxt('optdigits.tes', delimiter=',')\n",
    "train_  = opt_tra[:,:64]\n",
    "classes_= opt_tra[:,64]\n",
    "test_   = opt_tes[:,:64]\n",
    "actual_ = opt_tes[:,64]\n",
    "k = 3\n",
    "res = KNN(test_,train_,classes_,k)\n",
    "\n",
    "\n",
    "print(\"accuracy with k = {} : {}%\".format(k,correct(actual_,res)))"
   ]
  },
  {
   "cell_type": "code",
   "execution_count": 9,
   "metadata": {},
   "outputs": [],
   "source": [
    "def cross_validation(data,n,k):\n",
    "    np.random.shuffle(data)\n",
    "    size = int(data.shape[0] / n)\n",
    "    errs = 0\n",
    "    blocks = []\n",
    "    for i in range(n-1):\n",
    "        blocks.append(data[(size*i) : (size*(i+1))])\n",
    "    blocks.append(data[size*(n-1) :])\n",
    "    for i in range(n):\n",
    "        testing_  = blocks[i][:,:-1]\n",
    "        actual_   = blocks[i][:,-1]\n",
    "        training_ = []\n",
    "        for j in range(n):\n",
    "            if(i!=j):\n",
    "                training_.append(blocks[j])\n",
    "        training_ = np.concatenate(training_,axis = 0)\n",
    "        classes_  = training_[:,-1]\n",
    "        training_ = training_[:,:-1]\n",
    "        res = KNN(testing_,training_,classes_,k)\n",
    "        errs += errKNN(actual_,res)\n",
    "    return errs"
   ]
  },
  {
   "cell_type": "code",
   "execution_count": 10,
   "metadata": {},
   "outputs": [
    {
     "name": "stdout",
     "output_type": "stream",
     "text": [
      "67\n",
      "7\n"
     ]
    }
   ],
   "source": [
    "dane = np.append(opt_tra,opt_tes,axis = 0)\n",
    "print(cross_validation(dane,10,3))\n",
    "\n",
    "dane = np.append(iris.data,iris.target[np.newaxis].T,axis = 1)\n",
    "print(cross_validation(dane,10,3))"
   ]
  },
  {
   "cell_type": "markdown",
   "metadata": {},
   "source": [
    "# Zadanie 2"
   ]
  },
  {
   "cell_type": "code",
   "execution_count": null,
   "metadata": {},
   "outputs": [],
   "source": []
  },
  {
   "cell_type": "markdown",
   "metadata": {},
   "source": [
    "# Zadanie 3"
   ]
  },
  {
   "cell_type": "code",
   "execution_count": 11,
   "metadata": {},
   "outputs": [],
   "source": [
    "from sklearn.ensemble import RandomForestClassifier"
   ]
  },
  {
   "cell_type": "code",
   "execution_count": null,
   "metadata": {},
   "outputs": [],
   "source": []
  },
  {
   "cell_type": "code",
   "execution_count": null,
   "metadata": {},
   "outputs": [],
   "source": []
  },
  {
   "cell_type": "code",
   "execution_count": null,
   "metadata": {},
   "outputs": [],
   "source": []
  },
  {
   "cell_type": "code",
   "execution_count": null,
   "metadata": {},
   "outputs": [],
   "source": []
  }
 ],
 "metadata": {
  "kernelspec": {
   "display_name": "Python 3",
   "language": "python",
   "name": "python3"
  },
  "language_info": {
   "codemirror_mode": {
    "name": "ipython",
    "version": 3
   },
   "file_extension": ".py",
   "mimetype": "text/x-python",
   "name": "python",
   "nbconvert_exporter": "python",
   "pygments_lexer": "ipython3",
   "version": "3.5.2"
  }
 },
 "nbformat": 4,
 "nbformat_minor": 2
}
